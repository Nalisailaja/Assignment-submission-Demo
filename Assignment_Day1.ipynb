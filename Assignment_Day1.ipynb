{
  "nbformat": 4,
  "nbformat_minor": 0,
  "metadata": {
    "colab": {
      "name": "Assignment Day1",
      "provenance": [],
      "toc_visible": true,
      "authorship_tag": "ABX9TyNo+Kcon0cFuTEhsczh1oK7",
      "include_colab_link": true
    },
    "kernelspec": {
      "name": "python3",
      "display_name": "Python 3"
    }
  },
  "cells": [
    {
      "cell_type": "markdown",
      "metadata": {
        "id": "view-in-github",
        "colab_type": "text"
      },
      "source": [
        "<a href=\"https://colab.research.google.com/github/Nalisailaja/Assignment-submission-Demo/blob/main/Assignment_Day1.ipynb\" target=\"_parent\"><img src=\"https://colab.research.google.com/assets/colab-badge.svg\" alt=\"Open In Colab\"/></a>"
      ]
    },
    {
      "cell_type": "code",
      "metadata": {
        "id": "NGyBoMON-Crb"
      },
      "source": [
        ""
      ],
      "execution_count": null,
      "outputs": []
    },
    {
      "cell_type": "markdown",
      "metadata": {
        "id": "SAlKg6E4-EDJ"
      },
      "source": [
        "#Assingement 1\r\n",
        "List \r\n"
      ]
    },
    {
      "cell_type": "code",
      "metadata": {
        "colab": {
          "base_uri": "https://localhost:8080/"
        },
        "id": "gcXRnj1F-JFV",
        "outputId": "35e7d142-0912-4a71-879b-d34a4154f4bc"
      },
      "source": [
        "lst=[3,3,3,4,56,7,9]\r\n",
        "print(lst)"
      ],
      "execution_count": null,
      "outputs": [
        {
          "output_type": "stream",
          "text": [
            "[3, 3, 3, 4, 56, 7, 9]\n"
          ],
          "name": "stdout"
        }
      ]
    },
    {
      "cell_type": "code",
      "metadata": {
        "colab": {
          "base_uri": "https://localhost:8080/"
        },
        "id": "_63iLR_K-Q8I",
        "outputId": "557d1e5d-dd18-4c78-a520-ef420a619cc5"
      },
      "source": [
        "lst.append(76)\r\n",
        "print(lst)"
      ],
      "execution_count": null,
      "outputs": [
        {
          "output_type": "stream",
          "text": [
            "[3, 3, 3, 4, 56, 7, 9, 76]\n"
          ],
          "name": "stdout"
        }
      ]
    },
    {
      "cell_type": "code",
      "metadata": {
        "colab": {
          "base_uri": "https://localhost:8080/"
        },
        "id": "fQ6AxbkX-fAD",
        "outputId": "dd598d41-de36-4bfd-d160-e88c80e352b8"
      },
      "source": [
        "lst.insert(2,90)\r\n",
        "print(lst)"
      ],
      "execution_count": null,
      "outputs": [
        {
          "output_type": "stream",
          "text": [
            "[3, 3, 90, 3, 4, 56, 7, 9, 76]\n"
          ],
          "name": "stdout"
        }
      ]
    },
    {
      "cell_type": "code",
      "metadata": {
        "colab": {
          "base_uri": "https://localhost:8080/"
        },
        "id": "JWXquUIE-uJ4",
        "outputId": "1c23c1eb-6590-469b-b07b-fb64b0f0780d"
      },
      "source": [
        "lst.count(3)"
      ],
      "execution_count": null,
      "outputs": [
        {
          "output_type": "execute_result",
          "data": {
            "text/plain": [
              "3"
            ]
          },
          "metadata": {
            "tags": []
          },
          "execution_count": 10
        }
      ]
    },
    {
      "cell_type": "code",
      "metadata": {
        "colab": {
          "base_uri": "https://localhost:8080/"
        },
        "id": "HUgGRWyD_Rbi",
        "outputId": "cdd7359f-3198-451f-f8c1-4608d287ce5e"
      },
      "source": [
        "lst.reverse()\r\n",
        "print(lst)\r\n"
      ],
      "execution_count": null,
      "outputs": [
        {
          "output_type": "stream",
          "text": [
            "[76, 9, 7, 56, 4, 3, 90, 3, 3]\n"
          ],
          "name": "stdout"
        }
      ]
    },
    {
      "cell_type": "code",
      "metadata": {
        "colab": {
          "base_uri": "https://localhost:8080/"
        },
        "id": "a2ZnX_RE_tjQ",
        "outputId": "95d2130e-bfed-48ff-9b1d-bc82bee01b68"
      },
      "source": [
        "lst.remove(76)\r\n",
        "print(lst)"
      ],
      "execution_count": null,
      "outputs": [
        {
          "output_type": "stream",
          "text": [
            "[9, 7, 56, 4, 3, 90, 3, 3]\n"
          ],
          "name": "stdout"
        }
      ]
    },
    {
      "cell_type": "code",
      "metadata": {
        "colab": {
          "base_uri": "https://localhost:8080/"
        },
        "id": "J0a85kds__sh",
        "outputId": "baf807d8-b37f-43ea-ab81-1ab75c70a3ae"
      },
      "source": [
        "lst[-3]\r\n"
      ],
      "execution_count": null,
      "outputs": [
        {
          "output_type": "execute_result",
          "data": {
            "text/plain": [
              "90"
            ]
          },
          "metadata": {
            "tags": []
          },
          "execution_count": 18
        }
      ]
    },
    {
      "cell_type": "markdown",
      "metadata": {
        "id": "KrAgnwFrEzMA"
      },
      "source": [
        "#Assingnment 2"
      ]
    },
    {
      "cell_type": "code",
      "metadata": {
        "colab": {
          "base_uri": "https://localhost:8080/"
        },
        "id": "AMTjQBd8BTFt",
        "outputId": "1e78a24e-531e-48a6-99ae-f6a19886cc49"
      },
      "source": [
        "dict={\"name\":\"sailu\",\"reg.no\":76,\"clg\":\"DIET\"}\r\n",
        "print(dict)"
      ],
      "execution_count": null,
      "outputs": [
        {
          "output_type": "stream",
          "text": [
            "{'name': 'sailu', 'reg.no': 76, 'clg': 'DIET'}\n"
          ],
          "name": "stdout"
        }
      ]
    },
    {
      "cell_type": "code",
      "metadata": {
        "colab": {
          "base_uri": "https://localhost:8080/"
        },
        "id": "a6SLJfIQCZ2I",
        "outputId": "cfe87838-b2f4-4b9b-bdf0-99af334d509b"
      },
      "source": [
        "print (dict[\"name\"])"
      ],
      "execution_count": null,
      "outputs": [
        {
          "output_type": "stream",
          "text": [
            "sailu\n"
          ],
          "name": "stdout"
        }
      ]
    },
    {
      "cell_type": "code",
      "metadata": {
        "colab": {
          "base_uri": "https://localhost:8080/"
        },
        "id": "HmXW-k4ADdmA",
        "outputId": "d2960cd1-4513-4d7f-c493-9616317d8400"
      },
      "source": [
        "dict['place']=\"vijayawada\"\r\n",
        "print(dict)"
      ],
      "execution_count": null,
      "outputs": [
        {
          "output_type": "stream",
          "text": [
            "{'name': 'sailu', 'reg.no': 76, 'clg': 'DIET', 'place': 'vijayawada'}\n"
          ],
          "name": "stdout"
        }
      ]
    },
    {
      "cell_type": "code",
      "metadata": {
        "colab": {
          "base_uri": "https://localhost:8080/"
        },
        "id": "LmG5d3WfD01b",
        "outputId": "8831bb69-5f2f-44d5-d5d7-0adba3c2e73d"
      },
      "source": [
        "dict.keys()"
      ],
      "execution_count": null,
      "outputs": [
        {
          "output_type": "execute_result",
          "data": {
            "text/plain": [
              "dict_keys(['name', 'reg.no', 'clg', 'place'])"
            ]
          },
          "metadata": {
            "tags": []
          },
          "execution_count": 34
        }
      ]
    },
    {
      "cell_type": "code",
      "metadata": {
        "colab": {
          "base_uri": "https://localhost:8080/"
        },
        "id": "YeCLRjDIENMP",
        "outputId": "d8fea153-1c3e-4c50-89bf-59e7ef4a24be"
      },
      "source": [
        "dict.values()"
      ],
      "execution_count": null,
      "outputs": [
        {
          "output_type": "execute_result",
          "data": {
            "text/plain": [
              "dict_values(['sailu', 76, 'DIET', 'vijayawada'])"
            ]
          },
          "metadata": {
            "tags": []
          },
          "execution_count": 35
        }
      ]
    },
    {
      "cell_type": "code",
      "metadata": {
        "colab": {
          "base_uri": "https://localhost:8080/",
          "height": 35
        },
        "id": "DOZVA3xaERZk",
        "outputId": "673fdf0b-6155-4530-f936-fbbba3bde9cb"
      },
      "source": [
        "dict.pop(\"name\")"
      ],
      "execution_count": null,
      "outputs": [
        {
          "output_type": "execute_result",
          "data": {
            "application/vnd.google.colaboratory.intrinsic+json": {
              "type": "string"
            },
            "text/plain": [
              "'sailu'"
            ]
          },
          "metadata": {
            "tags": []
          },
          "execution_count": 36
        }
      ]
    },
    {
      "cell_type": "code",
      "metadata": {
        "colab": {
          "base_uri": "https://localhost:8080/"
        },
        "id": "nQJAlY0bEj6R",
        "outputId": "1a7af55c-3eed-45ef-e775-ebf3322f0f6b"
      },
      "source": [
        "dict.clear()\r\n",
        "print(dict)"
      ],
      "execution_count": null,
      "outputs": [
        {
          "output_type": "stream",
          "text": [
            "{}\n"
          ],
          "name": "stdout"
        }
      ]
    }
  ]
}